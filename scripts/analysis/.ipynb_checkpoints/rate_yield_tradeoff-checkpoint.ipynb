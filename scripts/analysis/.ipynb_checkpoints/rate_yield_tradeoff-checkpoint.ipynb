{
 "cells": [
  {
   "cell_type": "code",
   "execution_count": 39,
   "metadata": {},
   "outputs": [],
   "source": [
    "import seaborn as sns\n",
    "import matplotlib.pyplot as plt\n",
    "import numpy as np\n",
    "import h5py\n",
    "import pandas as pd"
   ]
  },
  {
   "cell_type": "code",
   "execution_count": 3,
   "metadata": {},
   "outputs": [],
   "source": [
    "f = h5py.File(\"/Users/glmarschmann/.julia/dev/DEBmicroTrait/first_manuscript/files_pub/generic_rate_yield_trade_off.jld\", \"r\")\n",
    "yield45 = f[\"yield_45\"].value\n",
    "rate45 = f[\"rate_45\"].value\n",
    "power45 = rate45*4.2"
   ]
  },
  {
   "cell_type": "code",
   "execution_count": 48,
   "metadata": {},
   "outputs": [],
   "source": [
    "fig_width = 3.14                         # inches  \n",
    "golden_mean = (np.sqrt(5)-1.0)/2.0      # Aesthetic ratio\n",
    "fig_height = fig_width*golden_mean      # height in inches\n",
    "dpi = 300.0                             # Convert inch to pt\n",
    "\n",
    "# Margins are specified as a fraction of axes size.\n",
    "# May need to adjust (especially left and bottom) to accomodate axes labels/tickmarks\n",
    "leftmargin = 0.15\n",
    "bottommargin = 0.2\n",
    "rightmargin = 0.05\n",
    "topmargin = 0.1\n",
    "# These two parameters are used for adjusting spacing between subplots (when used)\n",
    "wspace = 0.2\n",
    "hspace = 0.2\n",
    "\n",
    "fig_size =  [fig_width,fig_height]\n",
    "params = {'backend': 'svg',\n",
    "          'axes.labelsize': 8,\n",
    "          'axes.titlesize': 10,\n",
    "          'legend.fontsize': 6,\n",
    "          'xtick.labelsize': 8,\n",
    "          'ytick.labelsize': 8,\n",
    "          'figure.figsize': fig_size}"
   ]
  },
  {
   "cell_type": "code",
   "execution_count": 24,
   "metadata": {},
   "outputs": [
    {
     "data": {
      "text/plain": [
       "<matplotlib.axes._axes.Axes at 0x7faab1ef8c18>"
      ]
     },
     "execution_count": 24,
     "metadata": {},
     "output_type": "execute_result"
    },
    {
     "data": {
      "image/png": "[encoded data removed]",
      "text/plain": [
       "<Figure size 226.08x139.725 with 1 Axes>"
      ]
     },
     "metadata": {
      "needs_background": "light"
     },
     "output_type": "display_data"
    }
   ],
   "source": [
    "plt.rcParams.update(params)\n",
    "plt.figure(1)\n",
    "plt.clf()\n",
    "plt.axes([leftmargin,\n",
    "            bottommargin,\n",
    "            1.0 - rightmargin-leftmargin,\n",
    "            1.0 - topmargin-bottommargin])"
   ]
  },
  {
   "cell_type": "code",
   "execution_count": 27,
   "metadata": {},
   "outputs": [
    {
     "name": "stderr",
     "output_type": "stream",
     "text": [
      "/Users/glmarschmann/anaconda3/lib/python3.7/site-packages/ipykernel_launcher.py:7: MatplotlibDeprecationWarning: Adding an axes using the same arguments as a previous axes currently reuses the earlier instance.  In a future version, a new instance will always be created and returned.  Meanwhile, this warning can be suppressed, and the future behavior ensured, by passing a unique label to each axes instance.\n",
      "  import sys\n"
     ]
    },
    {
     "data": {
      "image/png": "[encoded data removed]",
      "text/plain": [
       "<Figure size 226.08x139.725 with 1 Axes>"
      ]
     },
     "metadata": {
      "needs_background": "light"
     },
     "output_type": "display_data"
    }
   ],
   "source": [
    "plt.plot(yield45, rate45, '-', lw=2, color=\"#252525\")\n",
    "plt.axhline(y=max(rate45), linestyle='--',color=\"#252525\")\n",
    "plt.xscale('log',basex=10) \n",
    "plt.yscale('log',basey=10) \n",
    "plt.xlabel(r\"Yield\")\n",
    "plt.ylabel(r\"Power\")\n",
    "ax = plt.axes()  \n",
    "from matplotlib.ticker import StrMethodFormatter, NullFormatter\n",
    "ax.xaxis.set_minor_formatter(StrMethodFormatter('{x:.1f}'))\n",
    "ax.yaxis.set_tick_params(which='minor', bottom=False)\n",
    "plt.savefig(\"/Users/glmarschmann/.julia/dev/DEBmicroTrait/first_manuscript/plots/generic_power_yield.svg\", format='svg')"
   ]
  },
  {
   "cell_type": "code",
   "execution_count": 2,
   "metadata": {},
   "outputs": [],
   "source": [
    "df_bge = pd.read_csv(\"/Users/glmarschmann/.julia/dev/DEBmicroTrait/first_manuscript/files_pub/isolates_batch_model_BGE.csv\")\n",
    "df_bge = df_bge.dropna()\n",
    "#\n",
    "df_bge_p_sugars = df_bge.loc[(df_bge.response == \"positive\") & (df_bge.ontology == \"Sugars\")]\n",
    "df_bge_p_organics = df_bge.loc[(df_bge.response == \"positive\") & (df_bge.ontology == \"Organic acids\")]\n",
    "df_bge_p_aminos = df_bge.loc[(df_bge.response == \"positive\") & (df_bge.ontology == \"Amino acids\")]\n",
    "df_bge_p_fattys = df_bge.loc[(df_bge.response == \"positive\") & (df_bge.ontology == \"Fatty acids\")]\n",
    "df_bge_p_nucleos = df_bge.loc[(df_bge.response == \"positive\") & (df_bge.ontology == \"Nucleotides\")]\n",
    "df_bge_p_auxins = df_bge.loc[(df_bge.response == \"positive\") & (df_bge.ontology == \"Auxins\")]\n",
    "df_bge_n_sugars = df_bge.loc[(df_bge.response == \"negative\") & (df_bge.ontology == \"Sugars\")]\n",
    "df_bge_n_organics = df_bge.loc[(df_bge.response == \"negative\") & (df_bge.ontology == \"Organic acids\")]\n",
    "df_bge_n_aminos = df_bge.loc[(df_bge.response == \"negative\") & (df_bge.ontology == \"Amino acids\")]\n",
    "df_bge_n_fattys = df_bge.loc[(df_bge.response == \"negative\") & (df_bge.ontology == \"Fatty acids\")]\n",
    "df_bge_n_nucleos = df_bge.loc[(df_bge.response == \"negative\") & (df_bge.ontology == \"Nucleotides\")]\n",
    "df_bge_n_auxins = df_bge.loc[(df_bge.response == \"negative\") & (df_bge.ontology == \"Auxins\")]\n",
    "df_bge_u_sugars = df_bge.loc[(df_bge.response == \"undefined\") & (df_bge.ontology == \"Sugars\")]\n",
    "df_bge_u_organics = df_bge.loc[(df_bge.response == \"undefined\") & (df_bge.ontology == \"Organic acids\")]\n",
    "df_bge_u_aminos = df_bge.loc[(df_bge.response == \"undefined\") & (df_bge.ontology == \"Amino acids\")]\n",
    "df_bge_u_fattys = df_bge.loc[(df_bge.response == \"undefined\") & (df_bge.ontology == \"Fatty acids\")]\n",
    "df_bge_u_nucleos = df_bge.loc[(df_bge.response == \"undefined\") & (df_bge.ontology == \"Nucleotides\")]\n",
    "df_bge_u_auxins = df_bge.loc[(df_bge.response == \"undefined\") & (df_bge.ontology == \"Auxins\")]\n",
    "#\n",
    "bge_grouped = df_bge.groupby([\"response\", \"ontology\"]).median()\n",
    "df_bge_high = bge_grouped[bge_grouped.rgrowth >  0.041]\n",
    "df_bge_low = bge_grouped[bge_grouped.rgrowth <  0.0407]"
   ]
  },
  {
   "cell_type": "code",
   "execution_count": 5,
   "metadata": {},
   "outputs": [
    {
     "data": {
      "text/plain": [
       "<matplotlib.axes._axes.Axes at 0x7fcfbd442dd8>"
      ]
     },
     "execution_count": 5,
     "metadata": {},
     "output_type": "execute_result"
    },
    {
     "data": {
      "image/png": "[encoded data removed]",
      "text/plain": [
       "<Figure size 226.08x139.725 with 1 Axes>"
      ]
     },
     "metadata": {
      "needs_background": "light"
     },
     "output_type": "display_data"
    }
   ],
   "source": [
    "plt.rcParams.update(params)\n",
    "plt.figure(1)\n",
    "plt.clf()\n",
    "plt.axes([leftmargin,\n",
    "            bottommargin,\n",
    "            1.0 - rightmargin-leftmargin,\n",
    "            1.0 - topmargin-bottommargin])"
   ]
  },
  {
   "cell_type": "code",
   "execution_count": 18,
   "metadata": {},
   "outputs": [
    {
     "data": {
      "image/png": "[encoded data removed]",
      "text/plain": [
       "<Figure size 226.08x139.725 with 1 Axes>"
      ]
     },
     "metadata": {
      "needs_background": "light"
     },
     "output_type": "display_data"
    }
   ],
   "source": [
    "plt.scatter(np.median(df_bge_p_sugars.BGE), np.median(df_bge_p_sugars.rgrowth), s=60, color='#e41a1c', edgecolor='k', marker='^', label=\"\")\n",
    "plt.scatter(np.median(df_bge_p_organics.BGE), np.median(df_bge_p_organics.rgrowth), s=60, c='#377eb8', edgecolor='k',marker='^', label=\"\")\n",
    "plt.scatter(np.median(df_bge_p_aminos.BGE), np.median(df_bge_p_aminos.rgrowth), s=60, c='#4daf4a',edgecolor='k', marker='^',label=\"\")\n",
    "plt.scatter(np.median(df_bge_p_fattys.BGE), np.median(df_bge_p_fattys.rgrowth), s=60, c='#984ea3',edgecolor='k', marker='^',label=\"\")\n",
    "plt.scatter(np.median(df_bge_p_nucleos.BGE), np.median(df_bge_p_nucleos.rgrowth), s=60, c='#ff7f00',edgecolor='k', marker='^',label=\"\")\n",
    "plt.scatter(np.median(df_bge_p_auxins.BGE), np.median(df_bge_p_auxins.rgrowth), s=60, c='#ffff33',edgecolor='k', marker='^',label=\"\")\n",
    "plt.scatter(np.median(df_bge_n_sugars.BGE), np.median(df_bge_n_sugars.rgrowth), s=60, c='#e41a1c',edgecolor='k', marker='v',label=\"\")\n",
    "plt.scatter(np.median(df_bge_n_organics.BGE), np.median(df_bge_n_organics.rgrowth), s=60, c='#377eb8',edgecolor='k', marker='v',label=\"\")\n",
    "plt.scatter(np.median(df_bge_n_aminos.BGE), np.median(df_bge_n_aminos.rgrowth), s=60, c='#4daf4a',edgecolor='k', marker='v',label=\"\")\n",
    "plt.scatter(np.median(df_bge_n_fattys.BGE), np.median(df_bge_n_fattys.rgrowth), s=60, c='#984ea3',edgecolor='k', marker='v',label=\"\")\n",
    "plt.scatter(np.median(df_bge_n_nucleos.BGE), np.median(df_bge_n_nucleos.rgrowth), s=60, c='#ff7f00',edgecolor='k', marker='v',label=\"\")\n",
    "plt.scatter(np.median(df_bge_n_auxins.BGE), np.median(df_bge_n_auxins.rgrowth), s=60, c='#ffff33',edgecolor='k', marker='v',label=\"\")\n",
    "plt.scatter(np.median(df_bge_u_sugars.BGE), np.median(df_bge_u_sugars.rgrowth), s=60, c='#e41a1c',edgecolor='k', marker='s', label=\"Sugars\")\n",
    "plt.scatter(np.median(df_bge_u_organics.BGE), np.median(df_bge_u_organics.rgrowth), s=60, c='#377eb8',edgecolor='k', marker='s', label=\"Organic acids\")\n",
    "plt.scatter(np.median(df_bge_u_aminos.BGE), np.median(df_bge_u_aminos.rgrowth), s=60, c='#4daf4a',edgecolor='k', marker='s', label=\"Amino acids\")\n",
    "plt.scatter(np.median(df_bge_u_fattys.BGE), np.median(df_bge_u_fattys.rgrowth), s=60, c='#984ea3',edgecolor='k', marker='s', label=\"Fatty acids\")\n",
    "plt.scatter(np.median(df_bge_u_nucleos.BGE), np.median(df_bge_u_nucleos.rgrowth), s=60, c='#ff7f00',edgecolor='k', marker='s', label=\"Nucleotides\")\n",
    "plt.scatter(np.median(df_bge_u_auxins.BGE), np.median(df_bge_u_auxins.rgrowth), s=60, c='#ffff33',edgecolor='k', marker='s', label=\"Auxins\")\n",
    "plt.legend()\n",
    "\n",
    "#\n",
    "ax = plt.gca()\n",
    "ax = sns.regplot(x=\"BGE\", y=\"rgrowth\", data=df_bge_high, marker=\"\", line_kws={\"color\":\"k\",\"alpha\":1.0,\"lw\":1.5})\n",
    "ax = sns.regplot(x=\"BGE\", y=\"rgrowth\", data=df_bge_low, marker=\"\", line_kws={\"color\":\"k\",\"alpha\":1.0,\"lw\":1.5})\n",
    "ax.set_xlim([0.3, 0.6])\n",
    "ax.set_ylim([0.001, 0.085])\n",
    "ax.set(ylabel=r'Growth rate $[h^{-1}]$', xlabel='Carbon use efficiency [-]')\n",
    "ax.set_yticks([0.005, 0.02, 0.04, 0.06, 0.08])\n",
    "ax.set_yticklabels([\"0.01\", \"0.02\", \"0.04\", \"0.06\", \"0.08\"])\n",
    "ax.set_xticks([0.3, 0.4, 0.5, 0.6])\n",
    "ax.set_xticklabels([\"0.3\", \"0.4\", \"0.5\", \"0.6\"])\n",
    "from matplotlib.patches import Patch\n",
    "from matplotlib.lines import Line2D\n",
    "legend_elements = [\n",
    "                   Line2D([0], [0], marker='_', color='#e41a1c', label='Sugars',\n",
    "                          markerfacecolor='#e41a1c', markersize=6),\n",
    "                   Line2D([0], [0], marker='_', color='#377eb8', label='Organic acids',\n",
    "                          markerfacecolor='#377eb8', markersize=6),\n",
    "                   Line2D([0], [0], marker='_', color='#4daf4a', label='Amino acids',\n",
    "                          markerfacecolor='#4daf4a', markersize=6),\n",
    "                   Line2D([0], [0], marker='_', color='#984ea3', label='Fatty acids',\n",
    "                          markerfacecolor='#984ea3', markersize=6),\n",
    "                   Line2D([0], [0], marker='_', color='#ff7f00', label='Nucleotides',\n",
    "                          markerfacecolor='#ff7f00', markersize=6),\n",
    "                   Line2D([0], [0], marker='_', color='#ffff33', label='Auxins',\n",
    "                          markerfacecolor='#ffff33', markersize=6),\n",
    "                   Line2D([0], [0], marker='^', color='w', label='Positive',\n",
    "                          markerfacecolor='none', mec='k', markersize=6),\n",
    "                   Line2D([0], [0], marker='v', color='w', label='Negative',\n",
    "                          markerfacecolor='none', mec='k', markersize=6),\n",
    "                   Line2D([0], [0], marker='s', color='w', label='Undefined',\n",
    "                          markerfacecolor='none', mec='k', markersize=6),\n",
    "]\n",
    "ax.legend(handles=legend_elements)\n",
    "plt.savefig(\"/Users/glmarschmann/.julia/dev/DEBmicroTrait/first_manuscript/plots/batch_rate_yield.svg\", format='svg')"
   ]
  },
  {
   "cell_type": "code",
   "execution_count": 49,
   "metadata": {},
   "outputs": [],
   "source": [
    "df_levin = pd.read_csv(\"/Users/glmarschmann/.julia/dev/DEBmicroTrait/first_manuscript/files_pub/isolates_batch_model_bge_levin.csv\")\n",
    "df_levin_p = df_levin.loc[(df_levin.response == \"positive\")]\n",
    "df_levin_n = df_levin.loc[(df_levin.response == \"negative\")]\n",
    "df_levin_u = df_levin.loc[(df_levin.response == \"undefined\")]"
   ]
  },
  {
   "cell_type": "code",
   "execution_count": 50,
   "metadata": {},
   "outputs": [
    {
     "data": {
      "text/plain": [
       "<matplotlib.axes._axes.Axes at 0x7fcfc20e67f0>"
      ]
     },
     "execution_count": 50,
     "metadata": {},
     "output_type": "execute_result"
    },
    {
     "data": {
      "image/png": "[encoded data removed]",
      "text/plain": [
       "<Figure size 226.08x139.725 with 1 Axes>"
      ]
     },
     "metadata": {
      "needs_background": "light"
     },
     "output_type": "display_data"
    }
   ],
   "source": [
    "plt.rcParams.update(params)\n",
    "plt.figure(1)\n",
    "plt.clf()\n",
    "plt.axes([leftmargin,\n",
    "            bottommargin,\n",
    "            1.0 - rightmargin-leftmargin,\n",
    "            1.0 - topmargin-bottommargin])"
   ]
  },
  {
   "cell_type": "code",
   "execution_count": 51,
   "metadata": {},
   "outputs": [
    {
     "data": {
      "image/png": "[encoded data removed]",
      "text/plain": [
       "<Figure size 226.08x139.725 with 1 Axes>"
      ]
     },
     "metadata": {
      "needs_background": "light"
     },
     "output_type": "display_data"
    }
   ],
   "source": [
    "plt.scatter(df_levin_p.levins,df_levin_p.BGE_med, s=60, marker='^', color='w', edgecolor='k', label=\"Positive\")\n",
    "plt.scatter(df_levin_n.levins, df_levin_n.BGE_med, s=60, marker='v', color='w', edgecolor='k', label=\"Negative\")\n",
    "plt.scatter(df_levin_u.levins, df_levin_u.BGE_med, s=60, marker='s', color='w', edgecolor='k', label=\"Undefined\")\n",
    "plt.legend()\n",
    "ax = plt.gca()\n",
    "ax = sns.regplot(x=\"levins\", y=\"BGE_med\", data=df_levin, marker=\"\", line_kws={\"color\":\"k\",\"alpha\":1.0,\"lw\":1.5})\n",
    "ax.set(xlabel=\"Levins index [-]\", y=\"Carbon use efficieny [-]\")\n",
    "#plt.savefig(\"/Users/glmarschmann/.julia/dev/DEBmicroTrait/first_manuscript/plots/batch_levins.svg\", format='svg')"
   ]
  },
  {
   "cell_type": "code",
   "execution_count": 41,
   "metadata": {},
   "outputs": [
    {
     "data": {
      "text/html": [
       "<div>\n",
       "<style scoped>\n",
       "    .dataframe tbody tr th:only-of-type {\n",
       "        vertical-align: middle;\n",
       "    }\n",
       "\n",
       "    .dataframe tbody tr th {\n",
       "        vertical-align: top;\n",
       "    }\n",
       "\n",
       "    .dataframe thead th {\n",
       "        text-align: right;\n",
       "    }\n",
       "</style>\n",
       "<table border=\"1\" class=\"dataframe\">\n",
       "  <thead>\n",
       "    <tr style=\"text-align: right;\">\n",
       "      <th></th>\n",
       "      <th>V_P</th>\n",
       "      <th>V_R</th>\n",
       "      <th>gmax</th>\n",
       "      <th>V_cell</th>\n",
       "      <th>k_E</th>\n",
       "      <th>V_cell_model</th>\n",
       "      <th>V_P_model</th>\n",
       "      <th>V_R_model</th>\n",
       "      <th>tRNA_model</th>\n",
       "      <th>mRNA_model</th>\n",
       "      <th>V_mtR_model</th>\n",
       "      <th>k_E_model</th>\n",
       "      <th>diff</th>\n",
       "    </tr>\n",
       "  </thead>\n",
       "  <tbody>\n",
       "    <tr>\n",
       "      <th>0</th>\n",
       "      <td>2.101147e-19</td>\n",
       "      <td>6.097366e-20</td>\n",
       "      <td>0.941429</td>\n",
       "      <td>2.752857e-18</td>\n",
       "      <td>3.244155</td>\n",
       "      <td>1.909016e-16</td>\n",
       "      <td>1.745318e-19</td>\n",
       "      <td>6.414248e-20</td>\n",
       "      <td>1.144949e-21</td>\n",
       "      <td>6.133402e-21</td>\n",
       "      <td>7.142083e-20</td>\n",
       "      <td>2.561630</td>\n",
       "      <td>-0.682525</td>\n",
       "    </tr>\n",
       "    <tr>\n",
       "      <th>1</th>\n",
       "      <td>3.240876e-19</td>\n",
       "      <td>8.603352e-20</td>\n",
       "      <td>0.677500</td>\n",
       "      <td>4.450000e-18</td>\n",
       "      <td>2.552137</td>\n",
       "      <td>3.977441e-16</td>\n",
       "      <td>2.442745e-19</td>\n",
       "      <td>6.905343e-20</td>\n",
       "      <td>1.601941e-21</td>\n",
       "      <td>8.581470e-21</td>\n",
       "      <td>7.923684e-20</td>\n",
       "      <td>2.396636</td>\n",
       "      <td>-0.155501</td>\n",
       "    </tr>\n",
       "    <tr>\n",
       "      <th>2</th>\n",
       "      <td>1.003650e-19</td>\n",
       "      <td>1.536313e-20</td>\n",
       "      <td>0.333500</td>\n",
       "      <td>1.950000e-18</td>\n",
       "      <td>2.178704</td>\n",
       "      <td>2.431404e-18</td>\n",
       "      <td>1.371041e-19</td>\n",
       "      <td>2.378735e-20</td>\n",
       "      <td>8.987359e-22</td>\n",
       "      <td>4.814456e-21</td>\n",
       "      <td>2.950054e-20</td>\n",
       "      <td>1.922207</td>\n",
       "      <td>-0.256497</td>\n",
       "    </tr>\n",
       "    <tr>\n",
       "      <th>3</th>\n",
       "      <td>6.861314e-20</td>\n",
       "      <td>1.284916e-20</td>\n",
       "      <td>0.545000</td>\n",
       "      <td>2.400000e-18</td>\n",
       "      <td>2.910241</td>\n",
       "      <td>3.761208e-20</td>\n",
       "      <td>1.585528e-19</td>\n",
       "      <td>3.812387e-20</td>\n",
       "      <td>1.039610e-21</td>\n",
       "      <td>5.569108e-21</td>\n",
       "      <td>4.473259e-20</td>\n",
       "      <td>2.266593</td>\n",
       "      <td>-0.643648</td>\n",
       "    </tr>\n",
       "    <tr>\n",
       "      <th>4</th>\n",
       "      <td>9.489051e-20</td>\n",
       "      <td>1.620112e-20</td>\n",
       "      <td>0.470000</td>\n",
       "      <td>2.300000e-18</td>\n",
       "      <td>2.752806</td>\n",
       "      <td>3.761208e-20</td>\n",
       "      <td>1.538989e-19</td>\n",
       "      <td>3.334090e-20</td>\n",
       "      <td>1.009001e-21</td>\n",
       "      <td>5.405136e-21</td>\n",
       "      <td>3.975503e-20</td>\n",
       "      <td>2.169482</td>\n",
       "      <td>-0.583324</td>\n",
       "    </tr>\n",
       "  </tbody>\n",
       "</table>\n",
       "</div>"
      ],
      "text/plain": [
       "            V_P           V_R      gmax        V_cell       k_E  V_cell_model  \\\n",
       "0  2.101147e-19  6.097366e-20  0.941429  2.752857e-18  3.244155  1.909016e-16   \n",
       "1  3.240876e-19  8.603352e-20  0.677500  4.450000e-18  2.552137  3.977441e-16   \n",
       "2  1.003650e-19  1.536313e-20  0.333500  1.950000e-18  2.178704  2.431404e-18   \n",
       "3  6.861314e-20  1.284916e-20  0.545000  2.400000e-18  2.910241  3.761208e-20   \n",
       "4  9.489051e-20  1.620112e-20  0.470000  2.300000e-18  2.752806  3.761208e-20   \n",
       "\n",
       "      V_P_model     V_R_model    tRNA_model    mRNA_model   V_mtR_model  \\\n",
       "0  1.745318e-19  6.414248e-20  1.144949e-21  6.133402e-21  7.142083e-20   \n",
       "1  2.442745e-19  6.905343e-20  1.601941e-21  8.581470e-21  7.923684e-20   \n",
       "2  1.371041e-19  2.378735e-20  8.987359e-22  4.814456e-21  2.950054e-20   \n",
       "3  1.585528e-19  3.812387e-20  1.039610e-21  5.569108e-21  4.473259e-20   \n",
       "4  1.538989e-19  3.334090e-20  1.009001e-21  5.405136e-21  3.975503e-20   \n",
       "\n",
       "   k_E_model      diff  \n",
       "0   2.561630 -0.682525  \n",
       "1   2.396636 -0.155501  \n",
       "2   1.922207 -0.256497  \n",
       "3   2.266593 -0.643648  \n",
       "4   2.169482 -0.583324  "
      ]
     },
     "execution_count": 41,
     "metadata": {},
     "output_type": "execute_result"
    }
   ],
   "source": [
    "df = pd.read_csv(\"/Users/glmarschmann/.julia/dev/DEBmicroTrait/first_manuscript/files_pub/benchmark_protein_synthesis.csv\")\n",
    "df.head()"
   ]
  },
  {
   "cell_type": "code",
   "execution_count": 42,
   "metadata": {},
   "outputs": [
    {
     "data": {
      "text/plain": [
       "<matplotlib.axes._axes.Axes at 0x7fcfc18b2c18>"
      ]
     },
     "execution_count": 42,
     "metadata": {},
     "output_type": "execute_result"
    },
    {
     "data": {
      "image/png": "[encoded data removed]",
      "text/plain": [
       "<Figure size 226.08x139.725 with 1 Axes>"
      ]
     },
     "metadata": {
      "needs_background": "light"
     },
     "output_type": "display_data"
    }
   ],
   "source": [
    "plt.rcParams.update(params)\n",
    "plt.figure(1)\n",
    "plt.clf()\n",
    "plt.axes([leftmargin,\n",
    "            bottommargin,\n",
    "            1.0 - rightmargin-leftmargin,\n",
    "            1.0 - topmargin-bottommargin])"
   ]
  },
  {
   "cell_type": "code",
   "execution_count": 47,
   "metadata": {},
   "outputs": [
    {
     "data": {
      "image/png": "[encoded data removed]",
      "text/plain": [
       "<Figure size 226.08x139.725 with 1 Axes>"
      ]
     },
     "metadata": {
      "needs_background": "light"
     },
     "output_type": "display_data"
    }
   ],
   "source": [
    "plt.plot(df[\"k_E_model\"], df[\"k_E\"], 'o', mfc='none', mec='k', ms=5, label=\"Dethlefsen and Schmidt (2007)\")\n",
    "x = np.linspace(1e-1,1e1,100)\n",
    "y = x\n",
    "y1 = np.exp(0.023)*x**1.13\n",
    "plt.plot(x, y, '--', c='k', label=\"\")\n",
    "plt.plot(x, y1, '-', c='k', label=\"\")\n",
    "plt.grid(True)\n",
    "plt.xscale('log')\n",
    "plt.yscale('log')\n",
    "plt.ylabel(r\"Translation power $[h^{-1}]$\")\n",
    "plt.xlabel(r\"Translation power predicted $[h^{-1}]$\")\n",
    "plt.legend()\n",
    "plt.savefig(\"/Users/glmarschmann/.julia/dev/DEBmicroTrait/first_manuscript/plots/benchmark_protein_synthesis.svg\", format='svg')"
   ]
  },
  {
   "cell_type": "code",
   "execution_count": null,
   "metadata": {},
   "outputs": [],
   "source": []
  }
 ],
 "metadata": {
  "kernelspec": {
   "display_name": "Python 3",
   "language": "python",
   "name": "python3"
  },
  "language_info": {
   "codemirror_mode": {
    "name": "ipython",
    "version": 3
   },
   "file_extension": ".py",
   "mimetype": "text/x-python",
   "name": "python",
   "nbconvert_exporter": "python",
   "pygments_lexer": "ipython3",
   "version": "3.7.1"
  }
 },
 "nbformat": 4,
 "nbformat_minor": 2
}
